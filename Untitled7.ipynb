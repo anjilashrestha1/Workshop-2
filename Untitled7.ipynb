{
  "nbformat": 4,
  "nbformat_minor": 0,
  "metadata": {
    "colab": {
      "provenance": [],
      "authorship_tag": "ABX9TyP2EwzsT+pP+b63KX2aHnlv",
      "include_colab_link": true
    },
    "kernelspec": {
      "name": "python3",
      "display_name": "Python 3"
    },
    "language_info": {
      "name": "python"
    }
  },
  "cells": [
    {
      "cell_type": "markdown",
      "metadata": {
        "id": "view-in-github",
        "colab_type": "text"
      },
      "source": [
        "<a href=\"https://colab.research.google.com/github/anjilashrestha1/Workshop-2/blob/main/Untitled7.ipynb\" target=\"_parent\"><img src=\"https://colab.research.google.com/assets/colab-badge.svg\" alt=\"Open In Colab\"/></a>"
      ]
    },
    {
      "cell_type": "markdown",
      "source": [
        "#1. Python Output"
      ],
      "metadata": {
        "id": "3R6MUQzkPZHs"
      }
    },
    {
      "cell_type": "code",
      "execution_count": 1,
      "metadata": {
        "id": "neJ3g9mfHZxg",
        "colab": {
          "base_uri": "https://localhost:8080/"
        },
        "outputId": "fc212da2-a476-4611-90f5-6372e7f46da9"
      },
      "outputs": [
        {
          "output_type": "stream",
          "name": "stdout",
          "text": [
            "Hello World!\n"
          ]
        }
      ],
      "source": [
        "# print function\n",
        "# python is a case sensitive language\n",
        "print(\"Hello World!\")"
      ]
    },
    {
      "cell_type": "code",
      "source": [
        "print('Salman Khan')"
      ],
      "metadata": {
        "colab": {
          "base_uri": "https://localhost:8080/"
        },
        "id": "Zs4HcGpPQaiW",
        "outputId": "a6e6f877-46c5-4339-a152-f8c2a4379a0e"
      },
      "execution_count": 2,
      "outputs": [
        {
          "output_type": "stream",
          "name": "stdout",
          "text": [
            "Salman Khan\n"
          ]
        }
      ]
    },
    {
      "cell_type": "code",
      "source": [
        "print(7)"
      ],
      "metadata": {
        "colab": {
          "base_uri": "https://localhost:8080/"
        },
        "id": "Cgiocbp-QvDV",
        "outputId": "77e5997d-6d17-4ff3-d7c0-ecf1e5f9f757"
      },
      "execution_count": 3,
      "outputs": [
        {
          "output_type": "stream",
          "name": "stdout",
          "text": [
            "7\n"
          ]
        }
      ]
    },
    {
      "cell_type": "code",
      "source": [
        "print(7.7)"
      ],
      "metadata": {
        "colab": {
          "base_uri": "https://localhost:8080/"
        },
        "id": "AUFqdtTOQvYd",
        "outputId": "dfafc60c-d8e3-4aee-9610-aa37bb139493"
      },
      "execution_count": 4,
      "outputs": [
        {
          "output_type": "stream",
          "name": "stdout",
          "text": [
            "7.7\n"
          ]
        }
      ]
    },
    {
      "cell_type": "code",
      "source": [
        "print(True)"
      ],
      "metadata": {
        "colab": {
          "base_uri": "https://localhost:8080/"
        },
        "id": "e3dvRNvkQvks",
        "outputId": "99437fa2-2ce1-488f-f4ee-09b63f05f431"
      },
      "execution_count": 5,
      "outputs": [
        {
          "output_type": "stream",
          "name": "stdout",
          "text": [
            "True\n"
          ]
        }
      ]
    },
    {
      "cell_type": "code",
      "source": [
        "print(\"Hello\",1,4.5,True)"
      ],
      "metadata": {
        "colab": {
          "base_uri": "https://localhost:8080/"
        },
        "id": "mCgOzsB4Q1Oo",
        "outputId": "93a9c18d-514e-4535-aa35-a3f9914a36fe"
      },
      "execution_count": 6,
      "outputs": [
        {
          "output_type": "stream",
          "name": "stdout",
          "text": [
            "Hello 1 4.5 True\n"
          ]
        }
      ]
    },
    {
      "cell_type": "code",
      "source": [
        "print(\"Hello\",1,4.5,True,sep='/')"
      ],
      "metadata": {
        "colab": {
          "base_uri": "https://localhost:8080/"
        },
        "id": "1nkIL1I8RBpw",
        "outputId": "08a1d35c-af42-41dd-dedf-c19b7635a2e6"
      },
      "execution_count": 7,
      "outputs": [
        {
          "output_type": "stream",
          "name": "stdout",
          "text": [
            "Hello/1/4.5/True\n"
          ]
        }
      ]
    },
    {
      "cell_type": "code",
      "source": [
        "print('Hell0')\n",
        "print('World')"
      ],
      "metadata": {
        "colab": {
          "base_uri": "https://localhost:8080/"
        },
        "id": "V31TwctJRxSP",
        "outputId": "0da73171-6f7b-4cf2-ed57-61833623a034"
      },
      "execution_count": 9,
      "outputs": [
        {
          "output_type": "stream",
          "name": "stdout",
          "text": [
            "Hell0\n",
            "World\n"
          ]
        }
      ]
    },
    {
      "cell_type": "code",
      "source": [
        "print('Hell0',end='-')\n",
        "print('World')"
      ],
      "metadata": {
        "colab": {
          "base_uri": "https://localhost:8080/"
        },
        "id": "at4k5VB8Rzbl",
        "outputId": "51f0316d-68f1-4cbf-d327-27a505c666e0"
      },
      "execution_count": 10,
      "outputs": [
        {
          "output_type": "stream",
          "name": "stdout",
          "text": [
            "Hell0-World\n"
          ]
        }
      ]
    },
    {
      "cell_type": "markdown",
      "source": [
        "#2. Data Type"
      ],
      "metadata": {
        "id": "wjn-O4YoSjmd"
      }
    },
    {
      "cell_type": "code",
      "source": [
        "# Integer\n",
        "print(8)\n",
        "# 1*10^309\n",
        "print(1e309)"
      ],
      "metadata": {
        "colab": {
          "base_uri": "https://localhost:8080/"
        },
        "id": "ONQgahPNSl3G",
        "outputId": "dc2cd168-b86a-4c1a-d262-1d6ba1fa93f7"
      },
      "execution_count": 12,
      "outputs": [
        {
          "output_type": "stream",
          "name": "stdout",
          "text": [
            "8\n",
            "inf\n"
          ]
        }
      ]
    },
    {
      "cell_type": "code",
      "source": [
        "#Decimal\n",
        "print(8.55)\n",
        "print(1.7e309)"
      ],
      "metadata": {
        "colab": {
          "base_uri": "https://localhost:8080/"
        },
        "id": "Fhee56ZdSzPB",
        "outputId": "a8530f4c-bed4-4542-ca02-843fe269f4a6"
      },
      "execution_count": 13,
      "outputs": [
        {
          "output_type": "stream",
          "name": "stdout",
          "text": [
            "8.55\n",
            "inf\n"
          ]
        }
      ]
    },
    {
      "cell_type": "code",
      "source": [
        "#Boolean\n",
        "print(True) #Boolean is not text\n",
        "print(False)"
      ],
      "metadata": {
        "colab": {
          "base_uri": "https://localhost:8080/"
        },
        "id": "UTf7pfHbTapu",
        "outputId": "71fea8f0-c734-4d8c-8556-e43f64db7550"
      },
      "execution_count": 14,
      "outputs": [
        {
          "output_type": "stream",
          "name": "stdout",
          "text": [
            "True\n",
            "False\n"
          ]
        }
      ]
    },
    {
      "cell_type": "code",
      "source": [
        "# Text/ String\n",
        "print('Hello World')"
      ],
      "metadata": {
        "colab": {
          "base_uri": "https://localhost:8080/"
        },
        "id": "TRrO94_OTfA-",
        "outputId": "e7381972-e61f-49fa-ef19-4140ca69a134"
      },
      "execution_count": 15,
      "outputs": [
        {
          "output_type": "stream",
          "name": "stdout",
          "text": [
            "Hello World\n"
          ]
        }
      ]
    },
    {
      "cell_type": "code",
      "source": [
        "#complex number\n",
        "print(5+6j)"
      ],
      "metadata": {
        "colab": {
          "base_uri": "https://localhost:8080/"
        },
        "id": "c0AX8nstTnyp",
        "outputId": "09b293bc-fa53-43b7-a468-8033708a6af0"
      },
      "execution_count": 16,
      "outputs": [
        {
          "output_type": "stream",
          "name": "stdout",
          "text": [
            "(5+6j)\n"
          ]
        }
      ]
    },
    {
      "cell_type": "code",
      "source": [
        "#List\n",
        "print([1,2,3,4,5])"
      ],
      "metadata": {
        "colab": {
          "base_uri": "https://localhost:8080/"
        },
        "id": "1dIUORUpTvSW",
        "outputId": "139d93b8-c019-45b6-91dd-4087c9ad27a5"
      },
      "execution_count": 17,
      "outputs": [
        {
          "output_type": "stream",
          "name": "stdout",
          "text": [
            "[1, 2, 3, 4, 5]\n"
          ]
        }
      ]
    },
    {
      "cell_type": "code",
      "source": [
        "#Tuple\n",
        "print((1,2,3,4,5))"
      ],
      "metadata": {
        "colab": {
          "base_uri": "https://localhost:8080/"
        },
        "id": "ByF7U-onT3S9",
        "outputId": "8db29a08-cb31-46a1-d38c-badfb6026745"
      },
      "execution_count": 19,
      "outputs": [
        {
          "output_type": "stream",
          "name": "stdout",
          "text": [
            "(1, 2, 3, 4, 5)\n"
          ]
        }
      ]
    },
    {
      "cell_type": "code",
      "source": [
        "#Sets\n",
        "print({1,2,3,4,5})"
      ],
      "metadata": {
        "colab": {
          "base_uri": "https://localhost:8080/"
        },
        "id": "brS6Ud7rT5ph",
        "outputId": "4c280407-492d-41b7-d685-339ccf276c69"
      },
      "execution_count": 20,
      "outputs": [
        {
          "output_type": "stream",
          "name": "stdout",
          "text": [
            "{1, 2, 3, 4, 5}\n"
          ]
        }
      ]
    },
    {
      "cell_type": "code",
      "source": [
        "#Dictionary\n",
        "print({'name':'Nitesh', 'Age':'20','gender':'male'})"
      ],
      "metadata": {
        "colab": {
          "base_uri": "https://localhost:8080/"
        },
        "id": "c-nX-ei5UCO9",
        "outputId": "b36770ae-7b28-4ccd-a177-7c3d8d7efb66"
      },
      "execution_count": 22,
      "outputs": [
        {
          "output_type": "stream",
          "name": "stdout",
          "text": [
            "{'name': 'Nitesh', 'Age': '20', 'gender': 'male'}\n"
          ]
        }
      ]
    },
    {
      "cell_type": "code",
      "source": [
        "# type function\n",
        "type(3)"
      ],
      "metadata": {
        "colab": {
          "base_uri": "https://localhost:8080/"
        },
        "id": "zQZ31dnXVRbs",
        "outputId": "c7aa38d5-ee7e-421b-d160-ed8de0dce46c"
      },
      "execution_count": 25,
      "outputs": [
        {
          "output_type": "execute_result",
          "data": {
            "text/plain": [
              "int"
            ]
          },
          "metadata": {},
          "execution_count": 25
        }
      ]
    },
    {
      "cell_type": "markdown",
      "source": [
        "#3. Variables- containers for future use"
      ],
      "metadata": {
        "id": "KJVihNCkVrut"
      }
    },
    {
      "cell_type": "code",
      "source": [
        "# In python we do not need to declare variable type or name\n",
        "# variable is created whenever needed\n",
        "name = 'Nitesh'\n",
        "print(name)\n",
        "\n",
        "a = 5\n",
        "b = 6\n",
        "print(a+b)"
      ],
      "metadata": {
        "colab": {
          "base_uri": "https://localhost:8080/"
        },
        "id": "XDumivnTVtgK",
        "outputId": "53b41e06-67c4-4aac-ad49-65ab38ae2dbd"
      },
      "execution_count": 28,
      "outputs": [
        {
          "output_type": "stream",
          "name": "stdout",
          "text": [
            "Nitesh\n",
            "11\n"
          ]
        }
      ]
    },
    {
      "cell_type": "code",
      "source": [
        "# Dynamic Typing - where we do not tell the data type. Python's intrepetor automatically detect data type by seeing the input variables\n",
        "# static typing - where variable's data type is declared along with variable's name\n",
        "# Static Binding- Once you declare data type for the variable then it cannot be changed throughtout the program. C/C++ support static binding"
      ],
      "metadata": {
        "id": "qP5KwEoRWSuP"
      },
      "execution_count": 30,
      "outputs": []
    },
    {
      "cell_type": "code",
      "source": [
        "# Dynamic Binding\n",
        "a = 5  # In python there is no fixed Data type for the variable you create.\n",
        "print(a)\n",
        "a = 'nitish'\n",
        "print(a)"
      ],
      "metadata": {
        "colab": {
          "base_uri": "https://localhost:8080/"
        },
        "id": "QMBFRbPIW1hu",
        "outputId": "4eb0702c-e9e4-4b0b-bb95-ac09b375c54e"
      },
      "execution_count": 31,
      "outputs": [
        {
          "output_type": "stream",
          "name": "stdout",
          "text": [
            "5\n",
            "nitish\n"
          ]
        }
      ]
    },
    {
      "cell_type": "code",
      "source": [
        "# way of creating variables\n",
        "a = 1\n",
        "b = 2\n",
        "c = 3\n",
        "print(a,b,c)"
      ],
      "metadata": {
        "colab": {
          "base_uri": "https://localhost:8080/"
        },
        "id": "4Y3MnMY4XeWv",
        "outputId": "3c363446-5ae0-4383-93ad-c4eda78848fd"
      },
      "execution_count": 32,
      "outputs": [
        {
          "output_type": "stream",
          "name": "stdout",
          "text": [
            "1 2 3\n"
          ]
        }
      ]
    },
    {
      "cell_type": "code",
      "source": [
        "a,b,c = 1,2,3\n",
        "print(a,b,c)"
      ],
      "metadata": {
        "colab": {
          "base_uri": "https://localhost:8080/"
        },
        "id": "52cUqejBZUtU",
        "outputId": "d9b29090-2f5b-441d-8742-47030277aa0c"
      },
      "execution_count": 34,
      "outputs": [
        {
          "output_type": "stream",
          "name": "stdout",
          "text": [
            "1 2 3\n"
          ]
        }
      ]
    },
    {
      "cell_type": "code",
      "source": [
        "a = b = c = 5\n",
        "print(a,b,c)"
      ],
      "metadata": {
        "colab": {
          "base_uri": "https://localhost:8080/"
        },
        "id": "uddx209LZZAf",
        "outputId": "ac8cba0e-8736-4cfd-ba6d-bf792674ac6d"
      },
      "execution_count": 36,
      "outputs": [
        {
          "output_type": "stream",
          "name": "stdout",
          "text": [
            "5 5 5\n"
          ]
        }
      ]
    },
    {
      "cell_type": "markdown",
      "source": [
        "#Comments"
      ],
      "metadata": {
        "id": "QU-29RDoajNF"
      }
    },
    {
      "cell_type": "code",
      "source": [
        "# This is a comment\n",
        "# second line\n",
        "a = 4\n",
        "b = 6 #like this\n",
        "# second comment\n",
        "print(a+b)"
      ],
      "metadata": {
        "colab": {
          "base_uri": "https://localhost:8080/"
        },
        "id": "Bgtyuw-fan9z",
        "outputId": "3c3142b5-2bcc-46d0-b0dd-9a5939b1b47a"
      },
      "execution_count": 38,
      "outputs": [
        {
          "output_type": "stream",
          "name": "stdout",
          "text": [
            "10\n"
          ]
        }
      ]
    },
    {
      "cell_type": "markdown",
      "source": [
        "#4. Keywords & Identifiers"
      ],
      "metadata": {
        "id": "kKYet2Rbbtl_"
      }
    },
    {
      "cell_type": "code",
      "source": [
        "# Keywords"
      ],
      "metadata": {
        "id": "JPPBLho-byVu"
      },
      "execution_count": null,
      "outputs": []
    },
    {
      "cell_type": "code",
      "source": [
        "# Identifiers\n",
        "# Rules for identifiers\n",
        "# 1. You can't start with a digit.\n",
        "# 2. You can use uppercase, lowercase, digits but only use '_' in special character. Other special characters are not allowed\n",
        "# 3. identifiers can not be keywords"
      ],
      "metadata": {
        "id": "pQHbYRS7f0F1"
      },
      "execution_count": 41,
      "outputs": []
    },
    {
      "cell_type": "markdown",
      "source": [
        "#5. User Input"
      ],
      "metadata": {
        "id": "xvB-A4uYkWq0"
      }
    },
    {
      "cell_type": "code",
      "source": [
        "# static Vs dynamic\n",
        "input()"
      ],
      "metadata": {
        "colab": {
          "base_uri": "https://localhost:8080/",
          "height": 53
        },
        "id": "fhwNaopSkbdJ",
        "outputId": "cea712fa-14ae-45af-ce99-1a63ba081194"
      },
      "execution_count": 42,
      "outputs": [
        {
          "name": "stdout",
          "output_type": "stream",
          "text": [
            "Anjila\n"
          ]
        },
        {
          "output_type": "execute_result",
          "data": {
            "text/plain": [
              "'Anjila'"
            ],
            "application/vnd.google.colaboratory.intrinsic+json": {
              "type": "string"
            }
          },
          "metadata": {},
          "execution_count": 42
        }
      ]
    },
    {
      "cell_type": "code",
      "source": [
        "# adding message in input function\n",
        "input('Enter name')"
      ],
      "metadata": {
        "colab": {
          "base_uri": "https://localhost:8080/",
          "height": 53
        },
        "id": "_uuz7PBhk2EW",
        "outputId": "48bdf518-5949-4d7f-bf04-8332afd52816"
      },
      "execution_count": 43,
      "outputs": [
        {
          "name": "stdout",
          "output_type": "stream",
          "text": [
            "Enter nameAnjila\n"
          ]
        },
        {
          "output_type": "execute_result",
          "data": {
            "text/plain": [
              "'Anjila'"
            ],
            "application/vnd.google.colaboratory.intrinsic+json": {
              "type": "string"
            }
          },
          "metadata": {},
          "execution_count": 43
        }
      ]
    },
    {
      "cell_type": "code",
      "source": [
        "# take input from users and store then in a variable\n",
        "fnum = input('Enter first number')\n",
        "snum = input('Enter second number')\n",
        "# add the two variables\n",
        "result = fnum + snum\n",
        "# print the result\n",
        "print(result)  #this give error. why?"
      ],
      "metadata": {
        "colab": {
          "base_uri": "https://localhost:8080/"
        },
        "id": "Qh49z8HilKIz",
        "outputId": "16f95d84-89ee-4262-ab39-13283502d157"
      },
      "execution_count": 47,
      "outputs": [
        {
          "output_type": "stream",
          "name": "stdout",
          "text": [
            "Enter first number45\n",
            "Enter second number56\n",
            "4556\n"
          ]
        }
      ]
    },
    {
      "cell_type": "code",
      "source": [
        "# error corrected\n",
        "# first check the type\n",
        "fnum = input('Enter first number')\n",
        "snum = input('Enter second number')\n",
        "print(type(fnum),type(snum)) #both input given are in string format so it did not add as we expect. and this is default format.\n",
        "result = fnum + snum          #To solve this problem we need to change data type\n",
        "# add the two variables\n",
        "# print the result\n",
        "print(result)"
      ],
      "metadata": {
        "colab": {
          "base_uri": "https://localhost:8080/"
        },
        "id": "qkDG_M5Rlt2g",
        "outputId": "aed1c432-914c-4b4e-dbc8-baea1137c380"
      },
      "execution_count": 48,
      "outputs": [
        {
          "output_type": "stream",
          "name": "stdout",
          "text": [
            "Enter first number45\n",
            "Enter second number56\n",
            "<class 'str'> <class 'str'>\n",
            "4556\n"
          ]
        }
      ]
    },
    {
      "cell_type": "markdown",
      "source": [
        "#6. Type Conversion\n"
      ],
      "metadata": {
        "id": "vYthAkJ6ng4Y"
      }
    },
    {
      "cell_type": "code",
      "source": [
        "# Implicit - handeled on own\n",
        "print(5+5.6)\n",
        "print(type(5),type(5.6))"
      ],
      "metadata": {
        "colab": {
          "base_uri": "https://localhost:8080/"
        },
        "id": "zYWnjPy8nlZu",
        "outputId": "633b3059-8367-41cf-b08d-7bd4b90349fe"
      },
      "execution_count": 49,
      "outputs": [
        {
          "output_type": "stream",
          "name": "stdout",
          "text": [
            "10.6\n",
            "<class 'int'> <class 'float'>\n"
          ]
        }
      ]
    },
    {
      "cell_type": "code",
      "source": [
        "# Explicit conversion\n",
        "# convert str -> int\n",
        "print(4 + int('4'))\n",
        "int(4+5j)  # type converion happens when it is possible to do so."
      ],
      "metadata": {
        "colab": {
          "base_uri": "https://localhost:8080/",
          "height": 198
        },
        "id": "pIus8Skin0IF",
        "outputId": "1d50eccc-3656-4aae-9f73-4f9757769df0"
      },
      "execution_count": 51,
      "outputs": [
        {
          "output_type": "stream",
          "name": "stdout",
          "text": [
            "8\n"
          ]
        },
        {
          "output_type": "error",
          "ename": "TypeError",
          "evalue": "int() argument must be a string, a bytes-like object or a real number, not 'complex'",
          "traceback": [
            "\u001b[0;31m---------------------------------------------------------------------------\u001b[0m",
            "\u001b[0;31mTypeError\u001b[0m                                 Traceback (most recent call last)",
            "\u001b[0;32m<ipython-input-51-d118c84c28f2>\u001b[0m in \u001b[0;36m<cell line: 0>\u001b[0;34m()\u001b[0m\n\u001b[1;32m      2\u001b[0m \u001b[0;31m# convert str -> int\u001b[0m\u001b[0;34m\u001b[0m\u001b[0;34m\u001b[0m\u001b[0m\n\u001b[1;32m      3\u001b[0m \u001b[0mprint\u001b[0m\u001b[0;34m(\u001b[0m\u001b[0;36m4\u001b[0m \u001b[0;34m+\u001b[0m \u001b[0mint\u001b[0m\u001b[0;34m(\u001b[0m\u001b[0;34m'4'\u001b[0m\u001b[0;34m)\u001b[0m\u001b[0;34m)\u001b[0m\u001b[0;34m\u001b[0m\u001b[0;34m\u001b[0m\u001b[0m\n\u001b[0;32m----> 4\u001b[0;31m \u001b[0mint\u001b[0m\u001b[0;34m(\u001b[0m\u001b[0;36m4\u001b[0m\u001b[0;34m+\u001b[0m\u001b[0;36m5j\u001b[0m\u001b[0;34m)\u001b[0m\u001b[0;34m\u001b[0m\u001b[0;34m\u001b[0m\u001b[0m\n\u001b[0m",
            "\u001b[0;31mTypeError\u001b[0m: int() argument must be a string, a bytes-like object or a real number, not 'complex'"
          ]
        }
      ]
    },
    {
      "cell_type": "code",
      "source": [
        "# int to str\n",
        "str(5)\n",
        "\n",
        "# float\n",
        "float(4)"
      ],
      "metadata": {
        "colab": {
          "base_uri": "https://localhost:8080/"
        },
        "id": "9qzm7nAYn-m2",
        "outputId": "6522f2c4-d85c-4e2e-d24d-69b1c15de6ce"
      },
      "execution_count": 52,
      "outputs": [
        {
          "output_type": "execute_result",
          "data": {
            "text/plain": [
              "4.0"
            ]
          },
          "metadata": {},
          "execution_count": 52
        }
      ]
    },
    {
      "cell_type": "code",
      "source": [
        "# error corrected\n",
        "# first check the type\n",
        "fnum = input('Enter first number')\n",
        "snum = input('Enter second number')\n",
        "print(type(fnum),type(snum)) #both input given are in string format so it did not add as we expect. and this is default format.\n",
        "# connvert type from str to int\n",
        "result = int(fnum) + int(snum)          #To solve this problem we need to change data type\n",
        "# add the two variables\n",
        "# print the result\n",
        "print(result)\n",
        "print(type(fnum)) #type of fnum will not change after the result. this is because new value is created in result."
      ],
      "metadata": {
        "colab": {
          "base_uri": "https://localhost:8080/"
        },
        "id": "0EQYg-72ovv8",
        "outputId": "7632607b-caba-4b84-cc31-10d02f2f9022"
      },
      "execution_count": 55,
      "outputs": [
        {
          "output_type": "stream",
          "name": "stdout",
          "text": [
            "Enter first number45\n",
            "Enter second number56\n",
            "<class 'str'> <class 'str'>\n",
            "101\n",
            "<class 'str'>\n"
          ]
        }
      ]
    },
    {
      "cell_type": "code",
      "source": [
        "# if type conversion is done at the start of taking input then type will remain int\n",
        "# first check the type\n",
        "fnum = int(input('Enter first number'))\n",
        "snum = int(input('Enter second number'))\n",
        "print(type(fnum),type(snum))\n",
        "result = fnum + snum\n",
        "# add the two variables\n",
        "# print the result\n",
        "print(result)\n",
        "print(type(fnum))"
      ],
      "metadata": {
        "colab": {
          "base_uri": "https://localhost:8080/"
        },
        "id": "-yFpCOX7pNfA",
        "outputId": "dbe2209f-a069-4242-875d-67eea6ab1dce"
      },
      "execution_count": 56,
      "outputs": [
        {
          "output_type": "stream",
          "name": "stdout",
          "text": [
            "Enter first number45\n",
            "Enter second number56\n",
            "<class 'int'> <class 'int'>\n",
            "101\n",
            "<class 'int'>\n"
          ]
        }
      ]
    },
    {
      "cell_type": "markdown",
      "source": [
        "#7. Literals"
      ],
      "metadata": {
        "id": "i3UlKMTErtnj"
      }
    },
    {
      "cell_type": "code",
      "source": [
        "# raw values stored under variables are literals\n",
        "# setting literals\n",
        "a = 0b1010 #Binary literals\n",
        "b = 100 #Decimal Literal\n",
        "c = 0o310 #Octal Literal\n",
        "d = 0x12c #Hexadecimal Literal\n",
        "print(a,b,c,d)"
      ],
      "metadata": {
        "colab": {
          "base_uri": "https://localhost:8080/"
        },
        "id": "_6DJ_3PPrvjb",
        "outputId": "6543f482-0fe4-4809-bb11-cf80e97d7d67"
      },
      "execution_count": 60,
      "outputs": [
        {
          "output_type": "stream",
          "name": "stdout",
          "text": [
            "10 100 200 300\n"
          ]
        }
      ]
    },
    {
      "cell_type": "code",
      "source": [
        "#float literals\n",
        "float_1 = 10.5\n",
        "float_2 = 1.5e2 #1.5*10^5\n",
        "float_3 = 1.5e-3 #1.5*10^-3\n",
        "print(float_1,float_2,float_3)"
      ],
      "metadata": {
        "colab": {
          "base_uri": "https://localhost:8080/"
        },
        "id": "ZXqpWj73segk",
        "outputId": "fc2d5394-9d97-4f67-a773-e6916878aae1"
      },
      "execution_count": 62,
      "outputs": [
        {
          "output_type": "stream",
          "name": "stdout",
          "text": [
            "10.5 150.0 0.0015\n"
          ]
        }
      ]
    },
    {
      "cell_type": "code",
      "source": [
        "# Complex literals\n",
        "x = 3.14j\n",
        "print(x)\n",
        "print(x.real)\n",
        "print(x.imag)"
      ],
      "metadata": {
        "colab": {
          "base_uri": "https://localhost:8080/"
        },
        "id": "rofpu_rDtEDc",
        "outputId": "a09efe30-d82a-4b64-a946-54381cfbbbf8"
      },
      "execution_count": 67,
      "outputs": [
        {
          "output_type": "stream",
          "name": "stdout",
          "text": [
            "3.14j\n",
            "0.0\n",
            "3.14\n"
          ]
        }
      ]
    },
    {
      "cell_type": "code",
      "source": [
        "# How to handel string in python\n",
        "# 1. use single '  '.\n",
        "# 2. use double \"  \".\n",
        "# 3. use triple \"\"\"  \"\"\". # used when when we have multiline string.\n",
        "# can use unicode string like smilies by adding 'u' inform of string.\n",
        "# can use raw string by adding 'r' infront of string."
      ],
      "metadata": {
        "id": "rsaEcYWBtS4P"
      },
      "execution_count": null,
      "outputs": []
    },
    {
      "cell_type": "code",
      "source": [
        "# example\n",
        "string = 'This is Python'\n",
        "strings = \"This is Python\"\n",
        "char = 'C'\n",
        "multiline_str = \"\"\"This is a multiline string with more than one line code.\"\"\"\n",
        "unicode = u\"\\U0001f600\\U0001F606\\U0001F923\"\n",
        "raw_str = r\"raw \\n string\"\n",
        "\n",
        "print(string)\n",
        "print(strings)\n",
        "print(char)\n",
        "print(multiline_str)\n",
        "print(unicode)\n",
        "print(raw_str)"
      ],
      "metadata": {
        "colab": {
          "base_uri": "https://localhost:8080/"
        },
        "id": "eBtBCvPquepC",
        "outputId": "039611c9-fbcd-438a-dde5-2cc883d32335"
      },
      "execution_count": 69,
      "outputs": [
        {
          "output_type": "stream",
          "name": "stdout",
          "text": [
            "This is Python\n",
            "This is Python\n",
            "C\n",
            "This is a multiline string with more than one line code.\n",
            "😀😆🤣\n",
            "raw \\n string\n"
          ]
        }
      ]
    },
    {
      "cell_type": "markdown",
      "source": [
        "\n",
        "#Boolean\n",
        "\n"
      ],
      "metadata": {
        "id": "ff_Oww4RvirB"
      }
    },
    {
      "cell_type": "code",
      "source": [
        "# in python True = 1 and False = 0\n",
        "a = True + 4\n",
        "b = False + 10\n",
        "\n",
        "print(\"a:\",a)\n",
        "print(\"b:\",b)"
      ],
      "metadata": {
        "colab": {
          "base_uri": "https://localhost:8080/"
        },
        "id": "RoGwfReKvm5j",
        "outputId": "19fe712f-5f1c-4f4d-d37a-9b095e1ed2fe"
      },
      "execution_count": 70,
      "outputs": [
        {
          "output_type": "stream",
          "name": "stdout",
          "text": [
            "a: 5\n",
            "b: 10\n"
          ]
        }
      ]
    },
    {
      "cell_type": "markdown",
      "source": [
        "#None"
      ],
      "metadata": {
        "id": "v946qfEYwGiT"
      }
    },
    {
      "cell_type": "code",
      "source": [
        "a = None\n",
        "print(a)"
      ],
      "metadata": {
        "colab": {
          "base_uri": "https://localhost:8080/"
        },
        "id": "XYGn_kKIwIBX",
        "outputId": "f1b2641d-65a9-4214-b161-282ab368ed31"
      },
      "execution_count": 72,
      "outputs": [
        {
          "output_type": "stream",
          "name": "stdout",
          "text": [
            "None\n"
          ]
        }
      ]
    },
    {
      "cell_type": "code",
      "source": [
        "# In python you cannit declare a variable before hand. To solve this problem None is used. This wont give any error or affect program.\n",
        "k = None\n",
        "a = 5\n",
        "b = 6\n",
        "print('Program exe')"
      ],
      "metadata": {
        "colab": {
          "base_uri": "https://localhost:8080/"
        },
        "id": "yhiPakmXwJ1m",
        "outputId": "6f3a9e8d-fe1a-447e-9a23-b421b2868221"
      },
      "execution_count": 75,
      "outputs": [
        {
          "output_type": "stream",
          "name": "stdout",
          "text": [
            "Program exe\n"
          ]
        }
      ]
    }
  ]
}